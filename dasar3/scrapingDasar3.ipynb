{
 "cells": [
  {
   "cell_type": "code",
   "execution_count": 2,
   "id": "3e848700",
   "metadata": {},
   "outputs": [],
   "source": [
    "import requests\n",
    "from bs4 import BeautifulSoup"
   ]
  },
  {
   "cell_type": "code",
   "execution_count": 3,
   "id": "c0f24281",
   "metadata": {},
   "outputs": [
    {
     "name": "stdout",
     "output_type": "stream",
     "text": [
      "{'title': 'Spotlight  ', 'year': 2015, 'awards': 2, 'nominations': 6, 'best_picture': True}\n",
      "{'title': 'Mad Max: Fury Road ', 'year': 2015, 'awards': 6, 'nominations': 10}\n",
      "{'title': 'The Revenant   ', 'year': 2015, 'awards': 3, 'nominations': 12}\n",
      "{'title': 'Bridge of Spies', 'year': 2015, 'awards': 1, 'nominations': 6}\n",
      "{'title': 'The Big Short  ', 'year': 2015, 'awards': 1, 'nominations': 5}\n",
      "{'title': 'The Danish Girl', 'year': 2015, 'awards': 1, 'nominations': 4}\n",
      "{'title': 'Room   ', 'year': 2015, 'awards': 1, 'nominations': 4}\n",
      "{'title': 'Ex Machina ', 'year': 2015, 'awards': 1, 'nominations': 2}\n",
      "{'title': 'The Hateful Eight  ', 'year': 2015, 'awards': 1, 'nominations': 2}\n",
      "{'title': 'Inside Out ', 'year': 2015, 'awards': 1, 'nominations': 2}\n",
      "{'title': 'Amy', 'year': 2015, 'awards': 1, 'nominations': 1}\n",
      "{'title': 'Bear Story ', 'year': 2015, 'awards': 1, 'nominations': 1}\n",
      "{'title': 'A Girl in the River: The Price of Forgiveness  ', 'year': 2015, 'awards': 1, 'nominations': 1}\n",
      "{'title': 'Son of Saul', 'year': 2015, 'awards': 1, 'nominations': 1}\n",
      "{'title': 'Spectre', 'year': 2015, 'awards': 1, 'nominations': 1}\n",
      "{'title': 'Stutterer  ', 'year': 2015, 'awards': 1, 'nominations': 1}\n"
     ]
    }
   ],
   "source": [
    "baseUrl = 'https://www.scrapethissite.com/pages/ajax-javascript/?ajax=true&year=2015'\n",
    "resp = requests.get(baseUrl)\n",
    "items = resp.json()\n",
    "soup = BeautifulSoup(resp.text, 'html.parser')\n",
    "\n",
    "\n",
    "for item in items:\n",
    "  print(item)"
   ]
  }
 ],
 "metadata": {
  "kernelspec": {
   "display_name": "Python 3",
   "language": "python",
   "name": "python3"
  },
  "language_info": {
   "codemirror_mode": {
    "name": "ipython",
    "version": 3
   },
   "file_extension": ".py",
   "mimetype": "text/x-python",
   "name": "python",
   "nbconvert_exporter": "python",
   "pygments_lexer": "ipython3",
   "version": "3.13.3"
  }
 },
 "nbformat": 4,
 "nbformat_minor": 5
}
